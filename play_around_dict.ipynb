{
 "cells": [
  {
   "cell_type": "code",
   "id": "initial_id",
   "metadata": {
    "collapsed": true,
    "ExecuteTime": {
     "end_time": "2024-12-07T04:58:41.621278Z",
     "start_time": "2024-12-07T04:58:41.317563Z"
    }
   },
   "source": [
    "import pandas as pd\n",
    "import numpy as np"
   ],
   "outputs": [],
   "execution_count": 1
  },
  {
   "metadata": {
    "ExecuteTime": {
     "end_time": "2024-12-07T04:59:22.353860Z",
     "start_time": "2024-12-07T04:59:22.334343Z"
    }
   },
   "cell_type": "code",
   "source": [
    "df = pd.read_csv('flash-card-project-start/data/french_words.csv')\n",
    "dict_word = df.to_dict(orient='records')"
   ],
   "id": "14620f8070f0bbc",
   "outputs": [],
   "execution_count": 2
  },
  {
   "metadata": {},
   "cell_type": "markdown",
   "source": "",
   "id": "962ea5dc9f568962"
  },
  {
   "metadata": {
    "ExecuteTime": {
     "end_time": "2024-12-07T05:04:09.631057Z",
     "start_time": "2024-12-07T05:04:09.622533Z"
    }
   },
   "cell_type": "code",
   "source": [
    "list_french, list_english = [], []\n",
    "for dict in dict_word:\n",
    "    for k, v in dict.items():\n",
    "        if k == 'French':\n",
    "            list_french.append(v)\n",
    "        else:\n",
    "            list_english.append(v)"
   ],
   "id": "a6db258dbe34b2d4",
   "outputs": [],
   "execution_count": 8
  },
  {
   "metadata": {
    "ExecuteTime": {
     "end_time": "2024-12-07T05:07:20.505125Z",
     "start_time": "2024-12-07T05:07:20.485059Z"
    }
   },
   "cell_type": "code",
   "source": [
    "list_french = [v for d in dict_word for k, v  in d.items() if k == 'French']\n",
    "list_english = [v for d in dict_word for k, v in d.items() if k == 'English']"
   ],
   "id": "daf2562e7b39432f",
   "outputs": [],
   "execution_count": 10
  },
  {
   "metadata": {
    "ExecuteTime": {
     "end_time": "2024-12-07T05:14:33.896167Z",
     "start_time": "2024-12-07T05:14:33.886161Z"
    }
   },
   "cell_type": "code",
   "source": "dict_tog = {french_word: english_word for french_word, english_word in zip(list_french, list_english)}\n",
   "id": "1effd5c875d265b4",
   "outputs": [],
   "execution_count": 53
  },
  {
   "metadata": {
    "ExecuteTime": {
     "end_time": "2024-12-07T05:14:41.330782Z",
     "start_time": "2024-12-07T05:14:41.326739Z"
    }
   },
   "cell_type": "code",
   "source": "print(dict_tog)",
   "id": "aaf85d5cb5bb9bd1",
   "outputs": [
    {
     "name": "stdout",
     "output_type": "stream",
     "text": [
      "{'partie': 'part', 'histoire': 'history', 'chercher': 'search', 'seulement': 'only', 'police': 'police', 'pensais': 'thought', 'aide': 'help', 'demande': 'request', 'genre': 'kind', 'mois': 'month', 'frère': 'brother', 'laisser': 'let', 'car': 'because', 'mettre': 'to put', 'aucun': 'no', 'laisse': 'leash', 'eux': 'them', 'ville': 'city', 'chaque': 'each', 'parlé': 'speak', 'arrivé': 'come', 'devrait': 'should', 'bébé': 'baby', 'longtemps': 'long time', 'heures': 'hours', 'vont': 'will', 'pendant': 'while', 'revoir': 'meet again', 'aucune': 'any', 'place': 'square', 'parle': 'speak', 'compris': 'understood', 'savais': 'knew', 'étaient': 'were', 'attention': 'Warning', 'voici': 'here is', 'pourrais': 'could', 'affaire': 'case', 'donner': 'give', 'type': 'type', 'leurs': 'their', 'donné': 'given', 'train': 'train', 'corps': 'body', 'endroit': 'place', 'yeux': 'eyes', 'façon': 'way', 'écoute': 'listen', 'dont': 'whose', 'trouve': 'find', 'premier': 'first', 'perdu': 'lost', 'main': 'hand', 'première': 'first', 'côté': 'side', 'pouvoir': 'power', 'vieux': 'old', 'sois': 'be', 'tiens': 'here', 'matin': 'morning', 'tellement': 'so much', 'enfant': 'child', 'point': 'point', 'venu': 'came', 'suite': 'after', 'pardon': 'sorry', 'venez': 'come', 'devant': 'in front of', 'vers': 'towards', 'minutes': 'minutes', 'demandé': 'request', 'chambre': 'bedroom', 'mis': 'placed', 'belle': 'beautiful', 'droit': 'law', 'aimerais': 'would like to', \"aujourd'hui\": 'today', 'mari': 'husband', 'cause': 'cause', 'enfin': 'finally', 'espère': 'hope', 'eau': 'water', 'attendez': 'Wait', 'parti': 'left', 'nouvelle': 'new', 'boulot': 'job', 'arrêter': 'Stop', 'dirait': 'would say', 'terre': 'Earth', 'compte': 'account', 'donne': 'given', 'loin': 'far', 'fin': 'end', 'croire': 'believe', 'chérie': 'sweetheart', 'gros': 'large', 'plutôt': 'rather', 'aura': 'will have', 'filles': 'girls', 'jouer': 'to play', 'bureau': 'office'}\n"
     ]
    }
   ],
   "execution_count": 54
  }
 ],
 "metadata": {
  "kernelspec": {
   "display_name": "Python 3",
   "language": "python",
   "name": "python3"
  },
  "language_info": {
   "codemirror_mode": {
    "name": "ipython",
    "version": 2
   },
   "file_extension": ".py",
   "mimetype": "text/x-python",
   "name": "python",
   "nbconvert_exporter": "python",
   "pygments_lexer": "ipython2",
   "version": "2.7.6"
  }
 },
 "nbformat": 4,
 "nbformat_minor": 5
}
